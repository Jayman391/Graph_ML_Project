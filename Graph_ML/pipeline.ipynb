{
 "cells": [
  {
   "cell_type": "code",
   "execution_count": 15,
   "metadata": {},
   "outputs": [],
   "source": [
    "import pandas as pd\n",
    "import numpy as np\n",
    "import networkx as nx\n",
    "import xgi\n",
    "import matplotlib.pyplot as plt\n",
    "import seaborn as sns\n",
    "import random\n",
    "import torch\n",
    "import torch.nn as nn"
   ]
  },
  {
   "cell_type": "code",
   "execution_count": 25,
   "metadata": {},
   "outputs": [],
   "source": [
    "embeddings = pd.read_csv('full_users_embeddings.csv')\n",
    "embeddings = embeddings.iloc[:, np.r_[0:3, -768:0]]\n",
    "embeddings['one_hot'] = 0\n",
    "\n",
    "df = pd.read_json('babynamesDB_users.json')\n",
    "hyperedge_list = df[['_id', 'groups']]\n",
    "\n",
    "# only keep users that are in the embeddings dataframe\n"
   ]
  },
  {
   "cell_type": "code",
   "execution_count": 49,
   "metadata": {},
   "outputs": [],
   "source": [
    "hyperedge_list_copy = hyperedge_list.copy()\n",
    "hyperedge_list_copy = hyperedge_list_copy[hyperedge_list_copy['_id'].isin(embeddings['_id'].values)]\n",
    "hyperedge_list_copy['_id'] = hyperedge_list_copy.index.astype(int)\n",
    "\n",
    "hyperedge_list_copy = hyperedge_list_copy.explode('groups')\n",
    "# turn groups to one hot encoding\n",
    "hyperedge_list_copy['groups'] = hyperedge_list_copy['groups'].astype('category')\n",
    "\n",
    "hyperedge_list_copy['groups'] = hyperedge_list_copy['groups'].cat.codes.astype(int)\n",
    "\n",
    "\n",
    "H = xgi.from_bipartite_pandas_dataframe(hyperedge_list_copy)\n",
    "\n"
   ]
  },
  {
   "cell_type": "code",
   "execution_count": 57,
   "metadata": {},
   "outputs": [],
   "source": [
    "G = xgi.to_bipartite_graph(H)"
   ]
  },
  {
   "cell_type": "code",
   "execution_count": 62,
   "metadata": {},
   "outputs": [],
   "source": [
    "num_groups = H.num_edges\n",
    "num_embeddings = embeddings.shape[1]\n",
    "column_names = embeddings.columns\n",
    "new_rows = []\n",
    "for i in range(1, num_groups + 1):\n",
    "    #create a new row for each group\n",
    "    new_row = pd.DataFrame(np.zeros((1, num_embeddings)), columns = column_names)\n",
    "    new_row['one_hot'] = i\n",
    "    new_rows.append(new_row)\n",
    "\n",
    "\n",
    "embeddings = pd.concat([embeddings] + new_rows, ignore_index=True)\n",
    "embeddings = embeddings.iloc[:-14, :]\n"
   ]
  },
  {
   "cell_type": "code",
   "execution_count": 68,
   "metadata": {},
   "outputs": [],
   "source": [
    "#add embeddings as node features, each row is its corresponding node\n",
    "nx.set_node_attributes(G, (embeddings.iloc[:, 3:].to_dict('index')))"
   ]
  },
  {
   "cell_type": "code",
   "execution_count": null,
   "metadata": {},
   "outputs": [],
   "source": [
    "def graph_to_edge_list(G):\n",
    "  return list(G.edges())\n",
    "\n",
    "def edge_list_to_tensor(edge_list):\n",
    "  return torch.tensor(edge_list).t()\n",
    "\n",
    "pos_edge_list = graph_to_edge_list(G)\n",
    "\n",
    "def sample_negative_edges(G, num_neg_samples):\n",
    "  possible_edges = [(u,v) for u in G.nodes() for v in G.nodes() if u != v and (u,v) not in G.edges()]\n",
    "  neg_edge_list = random.sample(possible_edges, num_neg_samples)\n",
    "  return np.array(neg_edge_list)"
   ]
  }
 ],
 "metadata": {
  "kernelspec": {
   "display_name": "Python 3",
   "language": "python",
   "name": "python3"
  },
  "language_info": {
   "codemirror_mode": {
    "name": "ipython",
    "version": 3
   },
   "file_extension": ".py",
   "mimetype": "text/x-python",
   "name": "python",
   "nbconvert_exporter": "python",
   "pygments_lexer": "ipython3",
   "version": "3.11.6"
  }
 },
 "nbformat": 4,
 "nbformat_minor": 2
}
