{
 "cells": [
  {
   "cell_type": "code",
   "execution_count": 10,
   "metadata": {},
   "outputs": [],
   "source": [
    "import networkx as nx\n",
    "import numpy as np"
   ]
  },
  {
   "cell_type": "code",
   "execution_count": 9,
   "metadata": {},
   "outputs": [],
   "source": [
    "G = nx.read_edgelist('graph.edgelist')"
   ]
  },
  {
   "cell_type": "code",
   "execution_count": 19,
   "metadata": {},
   "outputs": [
    {
     "ename": "ValueError",
     "evalue": "a must be 1-dimensional",
     "output_type": "error",
     "traceback": [
      "\u001b[1;31m---------------------------------------------------------------------------\u001b[0m",
      "\u001b[1;31mValueError\u001b[0m                                Traceback (most recent call last)",
      "\u001b[1;32mc:\\Users\\Jason\\Desktop\\Babycenter_Work\\Graph_ML_Project\\test.ipynb Cell 3\u001b[0m line \u001b[0;36m1\n\u001b[1;32m----> <a href='vscode-notebook-cell:/c%3A/Users/Jason/Desktop/Babycenter_Work/Graph_ML_Project/test.ipynb#X16sZmlsZQ%3D%3D?line=0'>1</a>\u001b[0m edges \u001b[39m=\u001b[39m np\u001b[39m.\u001b[39;49mrandom\u001b[39m.\u001b[39;49mchoice(G\u001b[39m.\u001b[39;49medges(), \u001b[39m100\u001b[39;49m, replace\u001b[39m=\u001b[39;49m\u001b[39mFalse\u001b[39;49;00m)\n\u001b[0;32m      <a href='vscode-notebook-cell:/c%3A/Users/Jason/Desktop/Babycenter_Work/Graph_ML_Project/test.ipynb#X16sZmlsZQ%3D%3D?line=1'>2</a>\u001b[0m H \u001b[39m=\u001b[39m G\u001b[39m.\u001b[39medge_subgraph(edges)\n\u001b[0;32m      <a href='vscode-notebook-cell:/c%3A/Users/Jason/Desktop/Babycenter_Work/Graph_ML_Project/test.ipynb#X16sZmlsZQ%3D%3D?line=2'>3</a>\u001b[0m nx\u001b[39m.\u001b[39mdraw()\n",
      "File \u001b[1;32mnumpy\\\\random\\\\mtrand.pyx:946\u001b[0m, in \u001b[0;36mnumpy.random.mtrand.RandomState.choice\u001b[1;34m()\u001b[0m\n",
      "\u001b[1;31mValueError\u001b[0m: a must be 1-dimensional"
     ]
    }
   ],
   "source": [
    "edges = np.random.choice(G.edges(), 100, replace=False)\n",
    "H = G.edge_subgraph(edges)\n",
    "nx.draw()"
   ]
  }
 ],
 "metadata": {
  "kernelspec": {
   "display_name": "Python 3",
   "language": "python",
   "name": "python3"
  },
  "language_info": {
   "codemirror_mode": {
    "name": "ipython",
    "version": 3
   },
   "file_extension": ".py",
   "mimetype": "text/x-python",
   "name": "python",
   "nbconvert_exporter": "python",
   "pygments_lexer": "ipython3",
   "version": "3.11.6"
  }
 },
 "nbformat": 4,
 "nbformat_minor": 2
}
