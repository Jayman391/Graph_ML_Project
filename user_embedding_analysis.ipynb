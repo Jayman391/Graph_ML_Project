{
 "cells": [
  {
   "cell_type": "code",
   "execution_count": null,
   "metadata": {},
   "outputs": [],
   "source": [
    "import pandas as pd\n",
    "import numpy as np\n",
    "\n",
    "import matplotlib.pyplot as plt\n",
    "import seaborn as sns\n",
    "\n",
    "from umap.umap_ import UMAP\n",
    "from sklearn.decomposition import PCA\n",
    "\n",
    "from sklearn.cluster import KMeans, AgglomerativeClustering\n",
    "\n",
    "from sklearn.metrics import silhouette_score, davies_bouldin_score, calinski_harabasz_score"
   ]
  },
  {
   "cell_type": "code",
   "execution_count": null,
   "metadata": {},
   "outputs": [],
   "source": [
    "groups = pd.read_json('babynamesDB_groups.json')\n",
    "groups = groups[groups['num_users_stored'] > 3]\n",
    "group_ids = groups['_id'].to_list()"
   ]
  },
  {
   "cell_type": "code",
   "execution_count": null,
   "metadata": {},
   "outputs": [],
   "source": [
    "users = pd.read_json('babynamesDB_users.json')\n",
    "users['num_groups'] = [len(i) for i in users['groups']]\n",
    "users = users[['_id' , 'num_comments_stored', 'groups', 'num_posts_stored', 'num_groups']]\n",
    "users = users.explode('groups')\n",
    "users = users[users['groups'].isin(group_ids)]\n",
    "users = pd.concat([users, pd.get_dummies(users['groups'], dtype=float)], axis=1)\n",
    "users = users.groupby('_id').sum()\n",
    "users = users.drop(columns=['groups'])"
   ]
  },
  {
   "cell_type": "code",
   "execution_count": null,
   "metadata": {},
   "outputs": [],
   "source": [
    "# Dimensionality Reduction\n",
    "\n",
    "pca = PCA(n_components=2)\n",
    "pca_result = pca.fit_transform(users)\n",
    "\n",
    "plt.figure(figsize=(6, 6))\n",
    "plt.scatter(pca_result[:,0], pca_result[:,1])\n",
    "plt.xlabel('PCA 1')\n",
    "plt.ylabel('PCA 2')\n",
    "plt.title('PCA for user embeddings')\n",
    "plt.show()\n",
    "\n",
    "# umap for 2 components\n",
    "umap = UMAP(n_components=2)\n",
    "umap_result = umap.fit_transform(users.sample(frac=0.1))\n",
    "\n",
    "sns.pairplot(pd.DataFrame(umap_result), height=2.5)"
   ]
  },
  {
   "cell_type": "code",
   "execution_count": null,
   "metadata": {},
   "outputs": [],
   "source": [
    "# Clustering\n",
    "\n",
    "kmeans = KMeans(n_clusters=10)\n",
    "kmeans.fit(pca_result)\n",
    "\n",
    "plt.figure(figsize=(6, 6))\n",
    "plt.scatter(pca_result[:,0], pca_result[:,1], c=kmeans.labels_)\n",
    "plt.xlabel('PCA 1')\n",
    "plt.ylabel('PCA 2')\n",
    "plt.title('PCA for user embeddings with KMeans Clustering')\n",
    "plt.show()\n",
    "\n",
    "kmeans.fit(umap_result)\n",
    "\n",
    "plt.figure(figsize=(6, 6))\n",
    "plt.scatter(umap_result[:,0], umap_result[:,1], c=kmeans.labels_)\n",
    "plt.xlabel('UMAP 1')\n",
    "plt.ylabel('UMAP 2')\n",
    "plt.title('UMAP for user embeddings with KMeans Clustering')\n",
    "plt.show()\n",
    "\n",
    "agglo = AgglomerativeClustering(n_clusters=10)\n",
    "agglo.fit(pca_result)\n",
    "\n",
    "plt.figure(figsize=(6, 6))\n",
    "plt.scatter(pca_result[:,0], pca_result[:,1], c=agglo.labels_)\n",
    "plt.xlabel('PCA 1')\n",
    "plt.ylabel('PCA 2')\n",
    "plt.title('PCA for user embeddings with Agglomerative Clustering')\n",
    "plt.show()\n",
    "\n",
    "agglo.fit(umap_result)\n",
    "\n",
    "plt.figure(figsize=(6, 6))\n",
    "plt.scatter(umap_result[:,0], umap_result[:,1], c=agglo.labels_)\n",
    "plt.xlabel('UMAP 1')\n",
    "plt.ylabel('UMAP 2')\n",
    "plt.title('UMAP for user embeddings with Agglomerative Clustering')\n",
    "plt.show()\n"
   ]
  },
  {
   "cell_type": "code",
   "execution_count": null,
   "metadata": {},
   "outputs": [],
   "source": [
    "# accuracy metrics\n",
    "\n",
    "print('PCA KMeans Silhouette Score: ', silhouette_score(pca_result, kmeans.labels_))\n",
    "print('PCA KMeans Davies Bouldin Score: ', davies_bouldin_score(pca_result, kmeans.labels_))\n",
    "print('PCA KMeans Calinski Harabasz Score: ', calinski_harabasz_score(pca_result, kmeans.labels_))\n",
    "\n",
    "print('UMAP KMeans Silhouette Score: ', silhouette_score(umap_result, kmeans.labels_))\n",
    "print('UMAP KMeans Davies Bouldin Score: ', davies_bouldin_score(umap_result, kmeans.labels_))\n",
    "print('UMAP KMeans Calinski Harabasz Score: ', calinski_harabasz_score(umap_result, kmeans.labels_))\n",
    "\n",
    "print('PCA Spectral Silhouette Score: ', silhouette_score(pca_result, agglo.labels_))\n",
    "print('PCA Spectral Davies Bouldin Score: ', davies_bouldin_score(pca_result, agglo.labels_))\n",
    "print('PCA Spectral Calinski Harabasz Score: ', calinski_harabasz_score(pca_result, agglo.labels_))\n",
    "\n",
    "print('UMAP Spectral Silhouette Score: ', silhouette_score(umap_result, agglo.labels_))\n",
    "print('UMAP Spectral Davies Bouldin Score: ', davies_bouldin_score(umap_result, agglo.labels_))\n",
    "print('UMAP Spectral Calinski Harabasz Score: ', calinski_harabasz_score(umap_result, agglo.labels_))"
   ]
  }
 ],
 "metadata": {
  "kernelspec": {
   "display_name": "Python 3",
   "language": "python",
   "name": "python3"
  },
  "language_info": {
   "codemirror_mode": {
    "name": "ipython",
    "version": 3
   },
   "file_extension": ".py",
   "mimetype": "text/x-python",
   "name": "python",
   "nbconvert_exporter": "python",
   "pygments_lexer": "ipython3",
   "version": "3.11.5"
  },
  "orig_nbformat": 4
 },
 "nbformat": 4,
 "nbformat_minor": 2
}
