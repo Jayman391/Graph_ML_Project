{
 "cells": [
  {
   "cell_type": "code",
   "execution_count": 2,
   "metadata": {},
   "outputs": [
    {
     "ename": "KeyboardInterrupt",
     "evalue": "",
     "output_type": "error",
     "traceback": [
      "\u001b[0;31m---------------------------------------------------------------------------\u001b[0m",
      "\u001b[0;31mKeyboardInterrupt\u001b[0m                         Traceback (most recent call last)",
      "\u001b[1;32m/Users/user/Desktop/babycenter_graph_ml_work/user_embedding_analysis.ipynb Cell 1\u001b[0m line \u001b[0;36m8\n\u001b[1;32m      <a href='vscode-notebook-cell:/Users/user/Desktop/babycenter_graph_ml_work/user_embedding_analysis.ipynb#W0sZmlsZQ%3D%3D?line=5'>6</a>\u001b[0m \u001b[39mimport\u001b[39;00m \u001b[39mmatplotlib\u001b[39;00m\u001b[39m.\u001b[39;00m\u001b[39mpyplot\u001b[39;00m \u001b[39mas\u001b[39;00m \u001b[39mplt\u001b[39;00m\n\u001b[1;32m      <a href='vscode-notebook-cell:/Users/user/Desktop/babycenter_graph_ml_work/user_embedding_analysis.ipynb#W0sZmlsZQ%3D%3D?line=6'>7</a>\u001b[0m \u001b[39mimport\u001b[39;00m \u001b[39mseaborn\u001b[39;00m \u001b[39mas\u001b[39;00m \u001b[39msns\u001b[39;00m\n\u001b[0;32m----> <a href='vscode-notebook-cell:/Users/user/Desktop/babycenter_graph_ml_work/user_embedding_analysis.ipynb#W0sZmlsZQ%3D%3D?line=7'>8</a>\u001b[0m \u001b[39mfrom\u001b[39;00m \u001b[39mumap\u001b[39;00m\u001b[39m.\u001b[39;00m\u001b[39mumap_\u001b[39;00m \u001b[39mimport\u001b[39;00m UMAP\n\u001b[1;32m      <a href='vscode-notebook-cell:/Users/user/Desktop/babycenter_graph_ml_work/user_embedding_analysis.ipynb#W0sZmlsZQ%3D%3D?line=8'>9</a>\u001b[0m \u001b[39mfrom\u001b[39;00m \u001b[39msklearn\u001b[39;00m\u001b[39m.\u001b[39;00m\u001b[39mdecomposition\u001b[39;00m \u001b[39mimport\u001b[39;00m PCA\n",
      "File \u001b[0;32m/usr/local/lib/python3.11/site-packages/umap/__init__.py:2\u001b[0m\n\u001b[1;32m      1\u001b[0m \u001b[39mfrom\u001b[39;00m \u001b[39mwarnings\u001b[39;00m \u001b[39mimport\u001b[39;00m warn, catch_warnings, simplefilter\n\u001b[0;32m----> 2\u001b[0m \u001b[39mfrom\u001b[39;00m \u001b[39m.\u001b[39;00m\u001b[39mumap_\u001b[39;00m \u001b[39mimport\u001b[39;00m UMAP\n\u001b[1;32m      4\u001b[0m \u001b[39mtry\u001b[39;00m:\n\u001b[1;32m      5\u001b[0m     \u001b[39mwith\u001b[39;00m catch_warnings():\n",
      "File \u001b[0;32m/usr/local/lib/python3.11/site-packages/umap/umap_.py:42\u001b[0m\n\u001b[1;32m     35\u001b[0m \u001b[39mfrom\u001b[39;00m \u001b[39mumap\u001b[39;00m\u001b[39m.\u001b[39;00m\u001b[39mutils\u001b[39;00m \u001b[39mimport\u001b[39;00m (\n\u001b[1;32m     36\u001b[0m     submatrix,\n\u001b[1;32m     37\u001b[0m     ts,\n\u001b[1;32m     38\u001b[0m     csr_unique,\n\u001b[1;32m     39\u001b[0m     fast_knn_indices,\n\u001b[1;32m     40\u001b[0m )\n\u001b[1;32m     41\u001b[0m \u001b[39mfrom\u001b[39;00m \u001b[39mumap\u001b[39;00m\u001b[39m.\u001b[39;00m\u001b[39mspectral\u001b[39;00m \u001b[39mimport\u001b[39;00m spectral_layout, tswspectral_layout\n\u001b[0;32m---> 42\u001b[0m \u001b[39mfrom\u001b[39;00m \u001b[39mumap\u001b[39;00m\u001b[39m.\u001b[39;00m\u001b[39mlayouts\u001b[39;00m \u001b[39mimport\u001b[39;00m (\n\u001b[1;32m     43\u001b[0m     optimize_layout_euclidean,\n\u001b[1;32m     44\u001b[0m     optimize_layout_generic,\n\u001b[1;32m     45\u001b[0m     optimize_layout_inverse,\n\u001b[1;32m     46\u001b[0m )\n\u001b[1;32m     48\u001b[0m \u001b[39mfrom\u001b[39;00m \u001b[39mpynndescent\u001b[39;00m \u001b[39mimport\u001b[39;00m NNDescent\n\u001b[1;32m     49\u001b[0m \u001b[39mfrom\u001b[39;00m \u001b[39mpynndescent\u001b[39;00m\u001b[39m.\u001b[39;00m\u001b[39mdistances\u001b[39;00m \u001b[39mimport\u001b[39;00m named_distances \u001b[39mas\u001b[39;00m pynn_named_distances\n",
      "File \u001b[0;32m/usr/local/lib/python3.11/site-packages/umap/layouts.py:30\u001b[0m\n\u001b[1;32m     26\u001b[0m     \u001b[39melse\u001b[39;00m:\n\u001b[1;32m     27\u001b[0m         \u001b[39mreturn\u001b[39;00m val\n\u001b[0;32m---> 30\u001b[0m \u001b[39m@numba\u001b[39;49m\u001b[39m.\u001b[39;49mnjit(\n\u001b[1;32m     31\u001b[0m     \u001b[39m\"\u001b[39;49m\u001b[39mf4(f4[::1],f4[::1])\u001b[39;49m\u001b[39m\"\u001b[39;49m,\n\u001b[1;32m     32\u001b[0m     fastmath\u001b[39m=\u001b[39;49m\u001b[39mTrue\u001b[39;49;00m,\n\u001b[1;32m     33\u001b[0m     cache\u001b[39m=\u001b[39;49m\u001b[39mTrue\u001b[39;49;00m,\n\u001b[1;32m     34\u001b[0m     \u001b[39mlocals\u001b[39;49m\u001b[39m=\u001b[39;49m{\n\u001b[1;32m     35\u001b[0m         \u001b[39m\"\u001b[39;49m\u001b[39mresult\u001b[39;49m\u001b[39m\"\u001b[39;49m: numba\u001b[39m.\u001b[39;49mtypes\u001b[39m.\u001b[39;49mfloat32,\n\u001b[1;32m     36\u001b[0m         \u001b[39m\"\u001b[39;49m\u001b[39mdiff\u001b[39;49m\u001b[39m\"\u001b[39;49m: numba\u001b[39m.\u001b[39;49mtypes\u001b[39m.\u001b[39;49mfloat32,\n\u001b[1;32m     37\u001b[0m         \u001b[39m\"\u001b[39;49m\u001b[39mdim\u001b[39;49m\u001b[39m\"\u001b[39;49m: numba\u001b[39m.\u001b[39;49mtypes\u001b[39m.\u001b[39;49mintp,\n\u001b[1;32m     38\u001b[0m         \u001b[39m\"\u001b[39;49m\u001b[39mi\u001b[39;49m\u001b[39m\"\u001b[39;49m: numba\u001b[39m.\u001b[39;49mtypes\u001b[39m.\u001b[39;49mintp,\n\u001b[1;32m     39\u001b[0m     },\n\u001b[1;32m     40\u001b[0m )\n\u001b[1;32m     41\u001b[0m \u001b[39mdef\u001b[39;49;00m \u001b[39mrdist\u001b[39;49m(x, y):\n\u001b[1;32m     42\u001b[0m \u001b[39m    \u001b[39;49m\u001b[39m\"\"\"Reduced Euclidean distance.\u001b[39;49;00m\n\u001b[1;32m     43\u001b[0m \n\u001b[1;32m     44\u001b[0m \u001b[39m    Parameters\u001b[39;49;00m\n\u001b[0;32m   (...)\u001b[0m\n\u001b[1;32m     51\u001b[0m \u001b[39m    The squared euclidean distance between x and y\u001b[39;49;00m\n\u001b[1;32m     52\u001b[0m \u001b[39m    \"\"\"\u001b[39;49;00m\n\u001b[1;32m     53\u001b[0m     result \u001b[39m=\u001b[39;49m \u001b[39m0.0\u001b[39;49m\n",
      "File \u001b[0;32m/usr/local/lib/python3.11/site-packages/numba/core/decorators.py:241\u001b[0m, in \u001b[0;36m_jit.<locals>.wrapper\u001b[0;34m(func)\u001b[0m\n\u001b[1;32m    239\u001b[0m     \u001b[39mwith\u001b[39;00m typeinfer\u001b[39m.\u001b[39mregister_dispatcher(disp):\n\u001b[1;32m    240\u001b[0m         \u001b[39mfor\u001b[39;00m sig \u001b[39min\u001b[39;00m sigs:\n\u001b[0;32m--> 241\u001b[0m             disp\u001b[39m.\u001b[39;49mcompile(sig)\n\u001b[1;32m    242\u001b[0m         disp\u001b[39m.\u001b[39mdisable_compile()\n\u001b[1;32m    243\u001b[0m \u001b[39mreturn\u001b[39;00m disp\n",
      "File \u001b[0;32m/usr/local/lib/python3.11/site-packages/numba/core/dispatcher.py:946\u001b[0m, in \u001b[0;36mDispatcher.compile\u001b[0;34m(self, sig)\u001b[0m\n\u001b[1;32m    944\u001b[0m     \u001b[39mreturn\u001b[39;00m existing\u001b[39m.\u001b[39mentry_point\n\u001b[1;32m    945\u001b[0m \u001b[39m# Try to load from disk cache\u001b[39;00m\n\u001b[0;32m--> 946\u001b[0m cres \u001b[39m=\u001b[39m \u001b[39mself\u001b[39;49m\u001b[39m.\u001b[39;49m_cache\u001b[39m.\u001b[39;49mload_overload(sig, \u001b[39mself\u001b[39;49m\u001b[39m.\u001b[39;49mtargetctx)\n\u001b[1;32m    947\u001b[0m \u001b[39mif\u001b[39;00m cres \u001b[39mis\u001b[39;00m \u001b[39mnot\u001b[39;00m \u001b[39mNone\u001b[39;00m:\n\u001b[1;32m    948\u001b[0m     \u001b[39mself\u001b[39m\u001b[39m.\u001b[39m_cache_hits[sig] \u001b[39m+\u001b[39m\u001b[39m=\u001b[39m \u001b[39m1\u001b[39m\n",
      "File \u001b[0;32m/usr/local/lib/python3.11/site-packages/numba/core/caching.py:635\u001b[0m, in \u001b[0;36mCache.load_overload\u001b[0;34m(self, sig, target_context)\u001b[0m\n\u001b[1;32m    633\u001b[0m target_context\u001b[39m.\u001b[39mrefresh()\n\u001b[1;32m    634\u001b[0m \u001b[39mwith\u001b[39;00m \u001b[39mself\u001b[39m\u001b[39m.\u001b[39m_guard_against_spurious_io_errors():\n\u001b[0;32m--> 635\u001b[0m     \u001b[39mreturn\u001b[39;00m \u001b[39mself\u001b[39;49m\u001b[39m.\u001b[39;49m_load_overload(sig, target_context)\n",
      "File \u001b[0;32m/usr/local/lib/python3.11/site-packages/numba/core/caching.py:644\u001b[0m, in \u001b[0;36mCache._load_overload\u001b[0;34m(self, sig, target_context)\u001b[0m\n\u001b[1;32m    642\u001b[0m data \u001b[39m=\u001b[39m \u001b[39mself\u001b[39m\u001b[39m.\u001b[39m_cache_file\u001b[39m.\u001b[39mload(key)\n\u001b[1;32m    643\u001b[0m \u001b[39mif\u001b[39;00m data \u001b[39mis\u001b[39;00m \u001b[39mnot\u001b[39;00m \u001b[39mNone\u001b[39;00m:\n\u001b[0;32m--> 644\u001b[0m     data \u001b[39m=\u001b[39m \u001b[39mself\u001b[39;49m\u001b[39m.\u001b[39;49m_impl\u001b[39m.\u001b[39;49mrebuild(target_context, data)\n\u001b[1;32m    645\u001b[0m \u001b[39mreturn\u001b[39;00m data\n",
      "File \u001b[0;32m/usr/local/lib/python3.11/site-packages/numba/core/caching.py:395\u001b[0m, in \u001b[0;36mCompileResultCacheImpl.rebuild\u001b[0;34m(self, target_context, payload)\u001b[0m\n\u001b[1;32m    391\u001b[0m \u001b[39mdef\u001b[39;00m \u001b[39mrebuild\u001b[39m(\u001b[39mself\u001b[39m, target_context, payload):\n\u001b[1;32m    392\u001b[0m \u001b[39m    \u001b[39m\u001b[39m\"\"\"\u001b[39;00m\n\u001b[1;32m    393\u001b[0m \u001b[39m    Returns the unserialized CompileResult\u001b[39;00m\n\u001b[1;32m    394\u001b[0m \u001b[39m    \"\"\"\u001b[39;00m\n\u001b[0;32m--> 395\u001b[0m     \u001b[39mreturn\u001b[39;00m compiler\u001b[39m.\u001b[39;49mCompileResult\u001b[39m.\u001b[39;49m_rebuild(target_context, \u001b[39m*\u001b[39;49mpayload)\n",
      "File \u001b[0;32m/usr/local/lib/python3.11/site-packages/numba/core/compiler.py:242\u001b[0m, in \u001b[0;36mCompileResult._rebuild\u001b[0;34m(cls, target_context, libdata, fndesc, env, signature, objectmode, lifted, typeann, reload_init, referenced_envs)\u001b[0m\n\u001b[1;32m    239\u001b[0m     \u001b[39mfor\u001b[39;00m fn \u001b[39min\u001b[39;00m reload_init:\n\u001b[1;32m    240\u001b[0m         fn()\n\u001b[0;32m--> 242\u001b[0m library \u001b[39m=\u001b[39m target_context\u001b[39m.\u001b[39;49mcodegen()\u001b[39m.\u001b[39;49munserialize_library(libdata)\n\u001b[1;32m    243\u001b[0m cfunc \u001b[39m=\u001b[39m target_context\u001b[39m.\u001b[39mget_executable(library, fndesc, env)\n\u001b[1;32m    244\u001b[0m cr \u001b[39m=\u001b[39m \u001b[39mcls\u001b[39m(target_context\u001b[39m=\u001b[39mtarget_context,\n\u001b[1;32m    245\u001b[0m          typing_context\u001b[39m=\u001b[39mtarget_context\u001b[39m.\u001b[39mtyping_context,\n\u001b[1;32m    246\u001b[0m          library\u001b[39m=\u001b[39mlibrary,\n\u001b[0;32m   (...)\u001b[0m\n\u001b[1;32m    258\u001b[0m          referenced_envs\u001b[39m=\u001b[39mreferenced_envs,\n\u001b[1;32m    259\u001b[0m          )\n",
      "File \u001b[0;32m/usr/local/lib/python3.11/site-packages/numba/core/codegen.py:1158\u001b[0m, in \u001b[0;36mCodegen.unserialize_library\u001b[0;34m(self, serialized)\u001b[0m\n\u001b[1;32m   1157\u001b[0m \u001b[39mdef\u001b[39;00m \u001b[39munserialize_library\u001b[39m(\u001b[39mself\u001b[39m, serialized):\n\u001b[0;32m-> 1158\u001b[0m     \u001b[39mreturn\u001b[39;00m \u001b[39mself\u001b[39;49m\u001b[39m.\u001b[39;49m_library_class\u001b[39m.\u001b[39;49m_unserialize(\u001b[39mself\u001b[39;49m, serialized)\n",
      "File \u001b[0;32m/usr/local/lib/python3.11/site-packages/numba/core/codegen.py:928\u001b[0m, in \u001b[0;36mCPUCodeLibrary._unserialize\u001b[0;34m(cls, codegen, state)\u001b[0m\n\u001b[1;32m    925\u001b[0m \u001b[39m@classmethod\u001b[39m\n\u001b[1;32m    926\u001b[0m \u001b[39mdef\u001b[39;00m \u001b[39m_unserialize\u001b[39m(\u001b[39mcls\u001b[39m, codegen, state):\n\u001b[1;32m    927\u001b[0m     name, kind, data \u001b[39m=\u001b[39m state\n\u001b[0;32m--> 928\u001b[0m     \u001b[39mself\u001b[39m \u001b[39m=\u001b[39m codegen\u001b[39m.\u001b[39;49mcreate_library(name)\n\u001b[1;32m    929\u001b[0m     \u001b[39massert\u001b[39;00m \u001b[39misinstance\u001b[39m(\u001b[39mself\u001b[39m, \u001b[39mcls\u001b[39m)\n\u001b[1;32m    930\u001b[0m     \u001b[39mif\u001b[39;00m kind \u001b[39m==\u001b[39m \u001b[39m'\u001b[39m\u001b[39mbitcode\u001b[39m\u001b[39m'\u001b[39m:\n\u001b[1;32m    931\u001b[0m         \u001b[39m# No need to re-run optimizations, just make the module ready\u001b[39;00m\n",
      "File \u001b[0;32m/usr/local/lib/python3.11/site-packages/numba/core/codegen.py:1155\u001b[0m, in \u001b[0;36mCodegen.create_library\u001b[0;34m(self, name, **kwargs)\u001b[0m\n\u001b[1;32m   1150\u001b[0m \u001b[39mdef\u001b[39;00m \u001b[39mcreate_library\u001b[39m(\u001b[39mself\u001b[39m, name, \u001b[39m*\u001b[39m\u001b[39m*\u001b[39mkwargs):\n\u001b[1;32m   1151\u001b[0m \u001b[39m    \u001b[39m\u001b[39m\"\"\"\u001b[39;00m\n\u001b[1;32m   1152\u001b[0m \u001b[39m    Create a :class:`CodeLibrary` object for use with this codegen\u001b[39;00m\n\u001b[1;32m   1153\u001b[0m \u001b[39m    instance.\u001b[39;00m\n\u001b[1;32m   1154\u001b[0m \u001b[39m    \"\"\"\u001b[39;00m\n\u001b[0;32m-> 1155\u001b[0m     \u001b[39mreturn\u001b[39;00m \u001b[39mself\u001b[39;49m\u001b[39m.\u001b[39;49m_library_class(\u001b[39mself\u001b[39;49m, name, \u001b[39m*\u001b[39;49m\u001b[39m*\u001b[39;49mkwargs)\n",
      "File \u001b[0;32m/usr/local/lib/python3.11/site-packages/numba/core/codegen.py:647\u001b[0m, in \u001b[0;36mCPUCodeLibrary.__init__\u001b[0;34m(self, codegen, name)\u001b[0m\n\u001b[1;32m    644\u001b[0m \u001b[39msuper\u001b[39m()\u001b[39m.\u001b[39m\u001b[39m__init__\u001b[39m(codegen, name)\n\u001b[1;32m    645\u001b[0m \u001b[39mself\u001b[39m\u001b[39m.\u001b[39m_linking_libraries \u001b[39m=\u001b[39m []   \u001b[39m# maintain insertion order\u001b[39;00m\n\u001b[1;32m    646\u001b[0m \u001b[39mself\u001b[39m\u001b[39m.\u001b[39m_final_module \u001b[39m=\u001b[39m ll\u001b[39m.\u001b[39mparse_assembly(\n\u001b[0;32m--> 647\u001b[0m     \u001b[39mstr\u001b[39m(\u001b[39mself\u001b[39;49m\u001b[39m.\u001b[39;49m_codegen\u001b[39m.\u001b[39;49m_create_empty_module(\u001b[39mself\u001b[39;49m\u001b[39m.\u001b[39;49mname)))\n\u001b[1;32m    648\u001b[0m \u001b[39mself\u001b[39m\u001b[39m.\u001b[39m_final_module\u001b[39m.\u001b[39mname \u001b[39m=\u001b[39m cgutils\u001b[39m.\u001b[39mnormalize_ir_text(\u001b[39mself\u001b[39m\u001b[39m.\u001b[39mname)\n\u001b[1;32m    649\u001b[0m \u001b[39mself\u001b[39m\u001b[39m.\u001b[39m_shared_module \u001b[39m=\u001b[39m \u001b[39mNone\u001b[39;00m\n",
      "File \u001b[0;32m/usr/local/lib/python3.11/site-packages/numba/core/codegen.py:1221\u001b[0m, in \u001b[0;36mCPUCodegen._create_empty_module\u001b[0;34m(self, name)\u001b[0m\n\u001b[1;32m   1219\u001b[0m \u001b[39mdef\u001b[39;00m \u001b[39m_create_empty_module\u001b[39m(\u001b[39mself\u001b[39m, name):\n\u001b[1;32m   1220\u001b[0m     ir_module \u001b[39m=\u001b[39m llvmir\u001b[39m.\u001b[39mModule(cgutils\u001b[39m.\u001b[39mnormalize_ir_text(name))\n\u001b[0;32m-> 1221\u001b[0m     ir_module\u001b[39m.\u001b[39mtriple \u001b[39m=\u001b[39m ll\u001b[39m.\u001b[39;49mget_process_triple()\n\u001b[1;32m   1222\u001b[0m     \u001b[39mif\u001b[39;00m \u001b[39mself\u001b[39m\u001b[39m.\u001b[39m_data_layout:\n\u001b[1;32m   1223\u001b[0m         ir_module\u001b[39m.\u001b[39mdata_layout \u001b[39m=\u001b[39m \u001b[39mself\u001b[39m\u001b[39m.\u001b[39m_data_layout\n",
      "File \u001b[0;32m/usr/local/lib/python3.11/site-packages/llvmlite/binding/targets.py:17\u001b[0m, in \u001b[0;36mget_process_triple\u001b[0;34m()\u001b[0m\n\u001b[1;32m     10\u001b[0m \u001b[39m\u001b[39m\u001b[39m\"\"\"\u001b[39;00m\n\u001b[1;32m     11\u001b[0m \u001b[39mReturn a target triple suitable for generating code for the current process.\u001b[39;00m\n\u001b[1;32m     12\u001b[0m \u001b[39mAn example when the default triple from ``get_default_triple()`` is not be\u001b[39;00m\n\u001b[1;32m     13\u001b[0m \u001b[39msuitable is when LLVM is compiled for 32-bit but the process is executing\u001b[39;00m\n\u001b[1;32m     14\u001b[0m \u001b[39min 64-bit mode.\u001b[39;00m\n\u001b[1;32m     15\u001b[0m \u001b[39m\"\"\"\u001b[39;00m\n\u001b[1;32m     16\u001b[0m \u001b[39mwith\u001b[39;00m ffi\u001b[39m.\u001b[39mOutputString() \u001b[39mas\u001b[39;00m out:\n\u001b[0;32m---> 17\u001b[0m     ffi\u001b[39m.\u001b[39;49mlib\u001b[39m.\u001b[39;49mLLVMPY_GetProcessTriple(out)\n\u001b[1;32m     18\u001b[0m     \u001b[39mreturn\u001b[39;00m \u001b[39mstr\u001b[39m(out)\n",
      "File \u001b[0;32m/usr/local/lib/python3.11/site-packages/llvmlite/binding/ffi.py:190\u001b[0m, in \u001b[0;36m_lib_fn_wrapper.__call__\u001b[0;34m(self, *args, **kwargs)\u001b[0m\n\u001b[1;32m    188\u001b[0m \u001b[39mdef\u001b[39;00m \u001b[39m__call__\u001b[39m(\u001b[39mself\u001b[39m, \u001b[39m*\u001b[39margs, \u001b[39m*\u001b[39m\u001b[39m*\u001b[39mkwargs):\n\u001b[1;32m    189\u001b[0m     \u001b[39mwith\u001b[39;00m \u001b[39mself\u001b[39m\u001b[39m.\u001b[39m_lock:\n\u001b[0;32m--> 190\u001b[0m         \u001b[39mreturn\u001b[39;00m \u001b[39mself\u001b[39;49m\u001b[39m.\u001b[39;49m_cfn(\u001b[39m*\u001b[39;49margs, \u001b[39m*\u001b[39;49m\u001b[39m*\u001b[39;49mkwargs)\n",
      "\u001b[0;31mKeyboardInterrupt\u001b[0m: "
     ]
    }
   ],
   "source": [
    "import pandas as pd\n",
    "import numpy as np\n",
    "\n",
    "import matplotlib.pyplot as plt\n",
    "import seaborn as sns\n",
    "\n",
    "from umap.umap_ import UMAP\n",
    "from sklearn.decomposition import PCA\n",
    "\n",
    "from sklearn.cluster import KMeans, SpectralClustering\n",
    "\n",
    "from sklearn.metrics import silhouette_score, davies_bouldin_score, calinski_harabasz_score"
   ]
  },
  {
   "cell_type": "code",
   "execution_count": 2,
   "metadata": {},
   "outputs": [],
   "source": [
    "groups = pd.read_json('babynamesDB_groups.json')\n",
    "groups = groups[groups['num_users_stored'] > 3]\n",
    "group_ids = groups['_id'].to_list()"
   ]
  },
  {
   "cell_type": "code",
   "execution_count": 4,
   "metadata": {},
   "outputs": [],
   "source": [
    "users = pd.read_json('babynamesDB_users.json')\n",
    "users['num_groups'] = [len(i) for i in users['groups']]\n",
    "users = users[['_id' , 'num_comments_stored', 'groups', 'num_posts_stored', 'num_groups']]\n",
    "users = users.explode('groups')\n",
    "users = users[users['groups'].isin(group_ids)]\n",
    "users = pd.concat([users, pd.get_dummies(users['groups'], dtype=float)], axis=1)\n",
    "users = users.groupby('_id').sum()\n",
    "users = users.drop(columns=['groups'])"
   ]
  },
  {
   "cell_type": "code",
   "execution_count": 1,
   "metadata": {},
   "outputs": [
    {
     "ename": "NameError",
     "evalue": "name 'PCA' is not defined",
     "output_type": "error",
     "traceback": [
      "\u001b[0;31m---------------------------------------------------------------------------\u001b[0m",
      "\u001b[0;31mNameError\u001b[0m                                 Traceback (most recent call last)",
      "\u001b[1;32m/Users/user/Desktop/babycenter_graph_ml_work/user_embedding_analysis.ipynb Cell 5\u001b[0m line \u001b[0;36m2\n\u001b[1;32m      <a href='vscode-notebook-cell:/Users/user/Desktop/babycenter_graph_ml_work/user_embedding_analysis.ipynb#X20sZmlsZQ%3D%3D?line=0'>1</a>\u001b[0m \u001b[39m# PCA for 2 components \u001b[39;00m\n\u001b[0;32m----> <a href='vscode-notebook-cell:/Users/user/Desktop/babycenter_graph_ml_work/user_embedding_analysis.ipynb#X20sZmlsZQ%3D%3D?line=1'>2</a>\u001b[0m pca \u001b[39m=\u001b[39m PCA(n_components\u001b[39m=\u001b[39m\u001b[39m2\u001b[39m)\n\u001b[1;32m      <a href='vscode-notebook-cell:/Users/user/Desktop/babycenter_graph_ml_work/user_embedding_analysis.ipynb#X20sZmlsZQ%3D%3D?line=2'>3</a>\u001b[0m pca_result \u001b[39m=\u001b[39m pca\u001b[39m.\u001b[39mfit_transform(users)\n",
      "\u001b[0;31mNameError\u001b[0m: name 'PCA' is not defined"
     ]
    }
   ],
   "source": [
    "# Dimensionality Reduction\n",
    "\n",
    "pca = PCA(n_components=2)\n",
    "pca_result = pca.fit_transform(users)\n",
    "\n",
    "plt.figure(figsize=(6, 6))\n",
    "plt.scatter(pca_result[:,0], pca_result[:,1])\n",
    "plt.xlabel('PCA 1')\n",
    "plt.ylabel('PCA 2')\n",
    "plt.title('PCA for user embeddings')\n",
    "plt.show()\n",
    "\n",
    "# umap for 2 components\n",
    "umap = UMAP(n_components=2)\n",
    "umap_result = umap.fit_transform(users.sample(frac=0.1))\n",
    "\n",
    "sns.pairplot(pd.DataFrame(umap_result), height=2.5)"
   ]
  },
  {
   "cell_type": "code",
   "execution_count": null,
   "metadata": {},
   "outputs": [],
   "source": [
    "# Clustering\n",
    "\n",
    "kmeans = KMeans(n_clusters=10)\n",
    "kmeans.fit(pca_result)\n",
    "\n",
    "plt.figure(figsize=(6, 6))\n",
    "plt.scatter(pca_result[:,0], pca_result[:,1], c=kmeans.labels_)\n",
    "plt.xlabel('PCA 1')\n",
    "plt.ylabel('PCA 2')\n",
    "plt.title('PCA for user embeddings')\n",
    "plt.show()\n",
    "\n",
    "kmeans.fit(umap_result)\n",
    "\n",
    "plt.figure(figsize=(6, 6))\n",
    "plt.scatter(umap_result[:,0], umap_result[:,1], c=kmeans.labels_)\n",
    "plt.xlabel('UMAP 1')\n",
    "plt.ylabel('UMAP 2')\n",
    "plt.title('UMAP for user embeddings')\n",
    "plt.show()\n",
    "\n",
    "spectral = SpectralClustering(n_clusters=10)\n",
    "spectral.fit(pca_result)\n",
    "\n",
    "plt.figure(figsize=(6, 6))\n",
    "plt.scatter(pca_result[:,0], pca_result[:,1], c=spectral.labels_)\n",
    "plt.xlabel('PCA 1')\n",
    "plt.ylabel('PCA 2')\n",
    "plt.title('PCA for user embeddings')\n",
    "plt.show()\n",
    "\n",
    "spectral.fit(umap_result)\n",
    "\n",
    "plt.figure(figsize=(6, 6))\n",
    "plt.scatter(umap_result[:,0], umap_result[:,1], c=spectral.labels_)\n",
    "plt.xlabel('UMAP 1')\n",
    "plt.ylabel('UMAP 2')\n",
    "plt.title('UMAP for user embeddings')\n",
    "plt.show()\n"
   ]
  },
  {
   "cell_type": "code",
   "execution_count": null,
   "metadata": {},
   "outputs": [],
   "source": [
    "# accuracy metrics\n",
    "\n",
    "print('PCA KMeans Silhouette Score: ', silhouette_score(pca_result, kmeans.labels_))\n",
    "print('PCA KMeans Davies Bouldin Score: ', davies_bouldin_score(pca_result, kmeans.labels_))\n",
    "print('PCA KMeans Calinski Harabasz Score: ', calinski_harabasz_score(pca_result, kmeans.labels_))\n",
    "\n",
    "print('UMAP KMeans Silhouette Score: ', silhouette_score(umap_result, kmeans.labels_))\n",
    "print('UMAP KMeans Davies Bouldin Score: ', davies_bouldin_score(umap_result, kmeans.labels_))\n",
    "print('UMAP KMeans Calinski Harabasz Score: ', calinski_harabasz_score(umap_result, kmeans.labels_))\n",
    "\n",
    "print('PCA Spectral Silhouette Score: ', silhouette_score(pca_result, spectral.labels_))\n",
    "print('PCA Spectral Davies Bouldin Score: ', davies_bouldin_score(pca_result, spectral.labels_))\n",
    "print('PCA Spectral Calinski Harabasz Score: ', calinski_harabasz_score(pca_result, spectral.labels_))\n",
    "\n",
    "print('UMAP Spectral Silhouette Score: ', silhouette_score(umap_result, spectral.labels_))\n",
    "print('UMAP Spectral Davies Bouldin Score: ', davies_bouldin_score(umap_result, spectral.labels_))\n",
    "print('UMAP Spectral Calinski Harabasz Score: ', calinski_harabasz_score(umap_result, spectral.labels_))"
   ]
  }
 ],
 "metadata": {
  "kernelspec": {
   "display_name": "Python 3",
   "language": "python",
   "name": "python3"
  },
  "language_info": {
   "codemirror_mode": {
    "name": "ipython",
    "version": 3
   },
   "file_extension": ".py",
   "mimetype": "text/x-python",
   "name": "python",
   "nbconvert_exporter": "python",
   "pygments_lexer": "ipython3",
   "version": "3.11.5"
  },
  "orig_nbformat": 4
 },
 "nbformat": 4,
 "nbformat_minor": 2
}
